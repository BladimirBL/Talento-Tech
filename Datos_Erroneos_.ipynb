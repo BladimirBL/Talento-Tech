{
  "nbformat": 4,
  "nbformat_minor": 0,
  "metadata": {
    "colab": {
      "provenance": [],
      "authorship_tag": "ABX9TyOxT7XBj8YEsFEAH1TJV3kF",
      "include_colab_link": true
    },
    "kernelspec": {
      "name": "python3",
      "display_name": "Python 3"
    },
    "language_info": {
      "name": "python"
    }
  },
  "cells": [
    {
      "cell_type": "markdown",
      "metadata": {
        "id": "view-in-github",
        "colab_type": "text"
      },
      "source": [
        "<a href=\"https://colab.research.google.com/github/BladimirBL/Talento-Tech/blob/main/Datos_Erroneos_.ipynb\" target=\"_parent\"><img src=\"https://colab.research.google.com/assets/colab-badge.svg\" alt=\"Open In Colab\"/></a>"
      ]
    },
    {
      "cell_type": "code",
      "execution_count": 121,
      "metadata": {
        "id": "7qLHsEfwAw7j"
      },
      "outputs": [],
      "source": [
        "import pandas as pd\n",
        "dfd= pd.DataFrame( )\n"
      ]
    },
    {
      "cell_type": "code",
      "source": [
        "# DataFrame\n",
        "\n",
        "data = {'id': [1, 2, 3, 4, 5],\n",
        "    'weight': ['144.5', '167.2', '124.1', '144.5', None],\n",
        "    'height': ['5.9', '5.4', '5.2', '5.9', None],\n",
        "    'age': [33, 45, None, 33, 54],\n",
        "    'gender': ['M', 'M', 'F', 'M', 'F']}\n",
        "\n",
        "dfd= pd.DataFrame(data)"
      ],
      "metadata": {
        "id": "H-h-zyvffbME"
      },
      "execution_count": 122,
      "outputs": []
    },
    {
      "cell_type": "code",
      "source": [
        "print(dfd)"
      ],
      "metadata": {
        "colab": {
          "base_uri": "https://localhost:8080/"
        },
        "id": "Nc83iqWhreBA",
        "outputId": "7e96210b-32d5-4acc-f4da-978abedec0b7"
      },
      "execution_count": 123,
      "outputs": [
        {
          "output_type": "stream",
          "name": "stdout",
          "text": [
            "   id weight height   age gender\n",
            "0   1  144.5    5.9  33.0      M\n",
            "1   2  167.2    5.4  45.0      M\n",
            "2   3  124.1    5.2   NaN      F\n",
            "3   4  144.5    5.9  33.0      M\n",
            "4   5   None   None  54.0      F\n"
          ]
        }
      ]
    },
    {
      "cell_type": "code",
      "source": [
        "# Se usa para mostrar columnsa y filas\n",
        "dfd.shape"
      ],
      "metadata": {
        "colab": {
          "base_uri": "https://localhost:8080/"
        },
        "id": "VUzt-hHhfbOb",
        "outputId": "9508fcc3-1b61-40dd-a611-8b44f38e9ed9"
      },
      "execution_count": 124,
      "outputs": [
        {
          "output_type": "execute_result",
          "data": {
            "text/plain": [
              "(5, 5)"
            ]
          },
          "metadata": {},
          "execution_count": 124
        }
      ]
    },
    {
      "cell_type": "code",
      "source": [
        "#Muestra información sobre el DataFrame, incluyendo tipos de datos y valores no nulos.\n",
        "dfd.info()"
      ],
      "metadata": {
        "colab": {
          "base_uri": "https://localhost:8080/"
        },
        "id": "rkVECJ2UvVv0",
        "outputId": "36f0b4d0-de7f-4e66-fbcc-1958ceac3e93"
      },
      "execution_count": 125,
      "outputs": [
        {
          "output_type": "stream",
          "name": "stdout",
          "text": [
            "<class 'pandas.core.frame.DataFrame'>\n",
            "RangeIndex: 5 entries, 0 to 4\n",
            "Data columns (total 5 columns):\n",
            " #   Column  Non-Null Count  Dtype  \n",
            "---  ------  --------------  -----  \n",
            " 0   id      5 non-null      int64  \n",
            " 1   weight  4 non-null      object \n",
            " 2   height  4 non-null      object \n",
            " 3   age     4 non-null      float64\n",
            " 4   gender  5 non-null      object \n",
            "dtypes: float64(1), int64(1), object(3)\n",
            "memory usage: 328.0+ bytes\n"
          ]
        }
      ]
    },
    {
      "cell_type": "code",
      "source": [
        "# Esto es para eliminar filas correspondientes\n",
        "dfd.dropna(inplace=True)\n",
        "dfd.info()"
      ],
      "metadata": {
        "colab": {
          "base_uri": "https://localhost:8080/"
        },
        "id": "eNyUg_f-omn2",
        "outputId": "fdbe1911-b127-49b4-d18f-4837dabaaed7"
      },
      "execution_count": 131,
      "outputs": [
        {
          "output_type": "stream",
          "name": "stdout",
          "text": [
            "<class 'pandas.core.frame.DataFrame'>\n",
            "Int64Index: 3 entries, 0 to 3\n",
            "Data columns (total 5 columns):\n",
            " #   Column  Non-Null Count  Dtype  \n",
            "---  ------  --------------  -----  \n",
            " 0   id      3 non-null      int64  \n",
            " 1   weight  3 non-null      object \n",
            " 2   height  3 non-null      object \n",
            " 3   age     3 non-null      float64\n",
            " 4   gender  3 non-null      object \n",
            "dtypes: float64(1), int64(1), object(3)\n",
            "memory usage: 144.0+ bytes\n"
          ]
        }
      ]
    },
    {
      "cell_type": "code",
      "source": [
        "dfd.shape\n",
        "dfd.info()\n",
        "print(dfd)"
      ],
      "metadata": {
        "colab": {
          "base_uri": "https://localhost:8080/"
        },
        "id": "KAn64-GTfbTD",
        "outputId": "87cc85d8-79b0-4c72-faca-ab1e8872a3e0"
      },
      "execution_count": 127,
      "outputs": [
        {
          "output_type": "stream",
          "name": "stdout",
          "text": [
            "<class 'pandas.core.frame.DataFrame'>\n",
            "Int64Index: 3 entries, 0 to 3\n",
            "Data columns (total 5 columns):\n",
            " #   Column  Non-Null Count  Dtype  \n",
            "---  ------  --------------  -----  \n",
            " 0   id      3 non-null      int64  \n",
            " 1   weight  3 non-null      object \n",
            " 2   height  3 non-null      object \n",
            " 3   age     3 non-null      float64\n",
            " 4   gender  3 non-null      object \n",
            "dtypes: float64(1), int64(1), object(3)\n",
            "memory usage: 144.0+ bytes\n",
            "   id weight height   age gender\n",
            "0   1  144.5    5.9  33.0      M\n",
            "1   2  167.2    5.4  45.0      M\n",
            "3   4  144.5    5.9  33.0      M\n"
          ]
        }
      ]
    }
  ]
}